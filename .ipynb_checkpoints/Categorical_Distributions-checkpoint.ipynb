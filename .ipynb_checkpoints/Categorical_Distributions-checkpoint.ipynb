{
 "cells": [
  {
   "cell_type": "code",
   "execution_count": 5,
   "metadata": {},
   "outputs": [],
   "source": [
    "import numpy as np"
   ]
  },
  {
   "cell_type": "code",
   "execution_count": 6,
   "metadata": {},
   "outputs": [],
   "source": [
    "# function to compute the projected probablities\n",
    "# This is an implementation of Algorithm 1 in the Distributional perpective paper: \n",
    "# arXiv:1707.06887 [cs.LG]\n",
    "def projected_prob(vmin, vmax, N, reward, discount, target_prob):\n",
    "    delta = (vmax - vmin)/(N-1)\n",
    "    z = np.array([ vmin + i*delta for i in range(N)])\n",
    "    Tz = np.clip(reward + discount*z, vmin, vmax)\n",
    "    b = (Tz-vmin)/delta\n",
    "    l = np.floor(b).astype(int)\n",
    "    small_shift = 1e-5\n",
    "    u = np.ceil(b+small_shift).astype(int)\n",
    "    projected_probs = np.zeros(N)\n",
    "    for ii, lu in enumerate(zip(l,u)):\n",
    "        ll, uu = lu\n",
    "        if ll in range(N):\n",
    "            projected_probs[ll]+=target_prob[ii]*(uu-b[ii])\n",
    "        if uu in range(N):\n",
    "            projected_probs[uu]+=target_prob[ii]*(b[ii]-ll)\n",
    "    return projected_probs     "
   ]
  }
 ],
 "metadata": {
  "kernelspec": {
   "display_name": "Python [conda env:drlnd]",
   "language": "python",
   "name": "conda-env-drlnd-py"
  },
  "language_info": {
   "codemirror_mode": {
    "name": "ipython",
    "version": 3
   },
   "file_extension": ".py",
   "mimetype": "text/x-python",
   "name": "python",
   "nbconvert_exporter": "python",
   "pygments_lexer": "ipython3",
   "version": "3.6.10"
  }
 },
 "nbformat": 4,
 "nbformat_minor": 4
}
