{
 "cells": [
  {
   "cell_type": "markdown",
   "metadata": {},
   "source": [
    "# Collaboration and Competition\n",
    "\n",
    "---\n",
    "\n",
    "In this notebook, you will learn how to use the Unity ML-Agents environment for the third project of the [Deep Reinforcement Learning Nanodegree](https://www.udacity.com/course/deep-reinforcement-learning-nanodegree--nd893) program.\n",
    "\n",
    "### 1. Start the Environment\n",
    "\n",
    "We begin by importing the necessary packages.  If the code cell below returns an error, please revisit the project instructions to double-check that you have installed [Unity ML-Agents](https://github.com/Unity-Technologies/ml-agents/blob/master/docs/Installation.md) and [NumPy](http://www.numpy.org/)."
   ]
  },
  {
   "cell_type": "code",
   "execution_count": 1,
   "metadata": {},
   "outputs": [],
   "source": [
    "from unityagents import UnityEnvironment\n",
    "import numpy as np"
   ]
  },
  {
   "cell_type": "markdown",
   "metadata": {},
   "source": [
    "Next, we will start the environment!  **_Before running the code cell below_**, change the `file_name` parameter to match the location of the Unity environment that you downloaded.\n",
    "\n",
    "- **Mac**: `\"path/to/Tennis.app\"`\n",
    "- **Windows** (x86): `\"path/to/Tennis_Windows_x86/Tennis.exe\"`\n",
    "- **Windows** (x86_64): `\"path/to/Tennis_Windows_x86_64/Tennis.exe\"`\n",
    "- **Linux** (x86): `\"path/to/Tennis_Linux/Tennis.x86\"`\n",
    "- **Linux** (x86_64): `\"path/to/Tennis_Linux/Tennis.x86_64\"`\n",
    "- **Linux** (x86, headless): `\"path/to/Tennis_Linux_NoVis/Tennis.x86\"`\n",
    "- **Linux** (x86_64, headless): `\"path/to/Tennis_Linux_NoVis/Tennis.x86_64\"`\n",
    "\n",
    "For instance, if you are using a Mac, then you downloaded `Tennis.app`.  If this file is in the same folder as the notebook, then the line below should appear as follows:\n",
    "```\n",
    "env = UnityEnvironment(file_name=\"Tennis.app\")\n",
    "```"
   ]
  },
  {
   "cell_type": "code",
   "execution_count": 2,
   "metadata": {},
   "outputs": [
    {
     "name": "stderr",
     "output_type": "stream",
     "text": [
      "INFO:unityagents:\n",
      "'Academy' started successfully!\n",
      "Unity Academy name: Academy\n",
      "        Number of Brains: 1\n",
      "        Number of External Brains : 1\n",
      "        Lesson number : 0\n",
      "        Reset Parameters :\n",
      "\t\t\n",
      "Unity brain name: TennisBrain\n",
      "        Number of Visual Observations (per agent): 0\n",
      "        Vector Observation space type: continuous\n",
      "        Vector Observation space size (per agent): 8\n",
      "        Number of stacked Vector Observation: 3\n",
      "        Vector Action space type: continuous\n",
      "        Vector Action space size (per agent): 2\n",
      "        Vector Action descriptions: , \n"
     ]
    }
   ],
   "source": [
    "env = UnityEnvironment(file_name=\"env/Tennis_Linux_NoVis/Tennis.x86_64\")"
   ]
  },
  {
   "cell_type": "markdown",
   "metadata": {},
   "source": [
    "Environments contain **_brains_** which are responsible for deciding the actions of their associated agents. Here we check for the first brain available, and set it as the default brain we will be controlling from Python."
   ]
  },
  {
   "cell_type": "code",
   "execution_count": 3,
   "metadata": {},
   "outputs": [],
   "source": [
    "# get the default brain\n",
    "brain_name = env.brain_names[0]\n",
    "brain = env.brains[brain_name]"
   ]
  },
  {
   "cell_type": "markdown",
   "metadata": {},
   "source": [
    "### 2. Examine the State and Action Spaces\n",
    "\n",
    "In this environment, two agents control rackets to bounce a ball over a net. If an agent hits the ball over the net, it receives a reward of +0.1.  If an agent lets a ball hit the ground or hits the ball out of bounds, it receives a reward of -0.01.  Thus, the goal of each agent is to keep the ball in play.\n",
    "\n",
    "The observation space consists of 8 variables corresponding to the position and velocity of the ball and racket. Two continuous actions are available, corresponding to movement toward (or away from) the net, and jumping. \n",
    "\n",
    "Run the code cell below to print some information about the environment."
   ]
  },
  {
   "cell_type": "code",
   "execution_count": 4,
   "metadata": {},
   "outputs": [
    {
     "name": "stdout",
     "output_type": "stream",
     "text": [
      "Number of agents: 2\n",
      "Size of each action: 2\n",
      "There are 2 agents. Each observes a state with length: 24\n",
      "The state for the first agent looks like: [ 0.          0.          0.          0.          0.          0.\n",
      "  0.          0.          0.          0.          0.          0.\n",
      "  0.          0.          0.          0.         -6.65278625 -1.5\n",
      " -0.          0.          6.83172083  6.         -0.          0.        ]\n"
     ]
    }
   ],
   "source": [
    "# reset the environment\n",
    "env_info = env.reset(train_mode=True)[brain_name]\n",
    "\n",
    "# number of agents \n",
    "num_agents = len(env_info.agents)\n",
    "print('Number of agents:', num_agents)\n",
    "\n",
    "# size of each action\n",
    "action_size = brain.vector_action_space_size\n",
    "print('Size of each action:', action_size)\n",
    "\n",
    "# examine the state space \n",
    "states = env_info.vector_observations\n",
    "state_size = states.shape[1]\n",
    "print('There are {} agents. Each observes a state with length: {}'.format(states.shape[0], state_size))\n",
    "print('The state for the first agent looks like:', states[0])"
   ]
  },
  {
   "cell_type": "code",
   "execution_count": 5,
   "metadata": {},
   "outputs": [
    {
     "data": {
      "text/plain": [
       "(2, 24)"
      ]
     },
     "execution_count": 5,
     "metadata": {},
     "output_type": "execute_result"
    }
   ],
   "source": [
    "states.shape"
   ]
  },
  {
   "cell_type": "markdown",
   "metadata": {},
   "source": [
    "### 3. Take Random Actions in the Environment\n",
    "\n",
    "In the next code cell, you will learn how to use the Python API to control the agents and receive feedback from the environment.\n",
    "\n",
    "Once this cell is executed, you will watch the agents' performance, if they select actions at random with each time step.  A window should pop up that allows you to observe the agents.\n",
    "\n",
    "Of course, as part of the project, you'll have to change the code so that the agents are able to use their experiences to gradually choose better actions when interacting with the environment!"
   ]
  },
  {
   "cell_type": "code",
   "execution_count": 6,
   "metadata": {},
   "outputs": [
    {
     "name": "stdout",
     "output_type": "stream",
     "text": [
      "Score (max over agents) from episode 1: 0.0\n",
      "Score (max over agents) from episode 2: 0.09000000171363354\n",
      "Score (max over agents) from episode 3: 0.0\n",
      "Score (max over agents) from episode 4: 0.0\n",
      "Score (max over agents) from episode 5: 0.0\n"
     ]
    }
   ],
   "source": [
    "for i in range(1, 6):                                      # play game for 5 episodes\n",
    "    env_info = env.reset(train_mode=False)[brain_name]     # reset the environment    \n",
    "    states = env_info.vector_observations                  # get the current state (for each agent)\n",
    "    scores = np.zeros(num_agents)                          # initialize the score (for each agent)\n",
    "    while True:\n",
    "        actions = np.random.randn(num_agents, action_size) # select an action (for each agent)\n",
    "        actions = np.clip(actions, -1, 1)                  # all actions between -1 and 1\n",
    "        env_info = env.step(actions)[brain_name]           # send all actions to tne environment\n",
    "        next_states = env_info.vector_observations         # get next state (for each agent)\n",
    "        rewards = env_info.rewards                         # get reward (for each agent)\n",
    "        dones = env_info.local_done                        # see if episode finished\n",
    "        scores += env_info.rewards                         # update the score (for each agent)\n",
    "        states = next_states                               # roll over states to next time step\n",
    "        if np.any(dones):                                  # exit loop if episode finished\n",
    "            break\n",
    "    print('Score (max over agents) from episode {}: {}'.format(i, np.max(scores)))"
   ]
  },
  {
   "cell_type": "code",
   "execution_count": 9,
   "metadata": {},
   "outputs": [
    {
     "name": "stdout",
     "output_type": "stream",
     "text": [
      "Score (max over agents) from episode 1: 0.0\n",
      "num steps in episode 1: 14\n",
      "dones at the end of episode 1: [True, True]\n",
      "Score (max over agents) from episode 2: 0.09000000171363354\n",
      "num steps in episode 2: 32\n",
      "dones at the end of episode 2: [True, True]\n",
      "Score (max over agents) from episode 3: 0.0\n",
      "num steps in episode 3: 14\n",
      "dones at the end of episode 3: [True, True]\n",
      "Score (max over agents) from episode 4: 0.0\n",
      "num steps in episode 4: 14\n",
      "dones at the end of episode 4: [True, True]\n",
      "Score (max over agents) from episode 5: 0.0\n",
      "num steps in episode 5: 15\n",
      "dones at the end of episode 5: [True, True]\n"
     ]
    }
   ],
   "source": [
    "for i in range(1, 6):                                      # play game for 5 episodes\n",
    "    env_info = env.reset(train_mode=False)[brain_name]     # reset the environment    \n",
    "    states = env_info.vector_observations                  # get the current state (for each agent)\n",
    "    scores = np.zeros(num_agents)                          # initialize the score (for each agent)\n",
    "    num_steps = 0\n",
    "    while True:\n",
    "        actions = np.random.uniform(-1,1.1, (num_agents, action_size)) # select an action (for each agent)\n",
    "        actions = np.clip(actions, -1, 1)                  # all actions between -1 and 1\n",
    "        env_info = env.step(actions)[brain_name]           # send all actions to tne environment\n",
    "        next_states = env_info.vector_observations         # get next state (for each agent)\n",
    "        rewards = env_info.rewards                         # get reward (for each agent)\n",
    "        dones = env_info.local_done                        # see if episode finished\n",
    "        scores += env_info.rewards                         # update the score (for each agent)\n",
    "        states = next_states                               # roll over states to next time step\n",
    "        num_steps += 1\n",
    "        if np.any(dones):                                  # exit loop if episode finished\n",
    "            break\n",
    "    print('Score (max over agents) from episode {}: {}'.format(i, np.max(scores)))\n",
    "    print('num steps in episode {}: {}'.format(i, num_steps))\n",
    "    print('dones at the end of episode {}: {}'.format(i, dones))"
   ]
  },
  {
   "cell_type": "markdown",
   "metadata": {},
   "source": [
    "Note that from the output of the above cell we can see that different episodes run for different number of steps. This implies that there are certain terminal states in the env. Also, notice that when a terminal state is reached, both agents are sent a 'done' signal simultaneously. "
   ]
  },
  {
   "cell_type": "markdown",
   "metadata": {},
   "source": [
    "When finished, you can close the environment."
   ]
  },
  {
   "cell_type": "code",
   "execution_count": 8,
   "metadata": {},
   "outputs": [],
   "source": [
    "env.close()"
   ]
  },
  {
   "cell_type": "markdown",
   "metadata": {},
   "source": [
    "### 4. It's Your Turn!\n",
    "\n",
    "Now it's your turn to train your own agent to solve the environment!  When training the environment, set `train_mode=True`, so that the line for resetting the environment looks like the following:\n",
    "```python\n",
    "env_info = env.reset(train_mode=True)[brain_name]\n",
    "```"
   ]
  },
  {
   "cell_type": "code",
   "execution_count": 6,
   "metadata": {},
   "outputs": [],
   "source": [
    "import autoreload\n",
    "import numpy as np\n",
    "import matplotlib.pyplot as plt\n",
    "import torch\n",
    "from collections import namedtuple, deque"
   ]
  },
  {
   "cell_type": "code",
   "execution_count": 7,
   "metadata": {},
   "outputs": [],
   "source": [
    "%load_ext autoreload\n",
    "from MAD3PG_Agent import Agent"
   ]
  },
  {
   "cell_type": "code",
   "execution_count": 8,
   "metadata": {},
   "outputs": [],
   "source": [
    "roll_out = 5\n",
    "assert roll_out >= 1, 'minimum roll_out is 1' # a roll_out of 1 corresponds to a single step \n",
    "agent = Agent(roll_out = roll_out, replay_batch = 256, update_interval = 4,\n",
    "              lr_actor = 3e-4,  lr_critic = 3e-4, vmin = -1, vmax = 1, n_atoms=51)"
   ]
  },
  {
   "cell_type": "code",
   "execution_count": 9,
   "metadata": {},
   "outputs": [],
   "source": [
    "# function to solve the environment\n",
    "StepInfo = namedtuple('step_info', field_names = ['states', 'actions', 'rewards',\n",
    "                                                  'done', 'next_states'] )\n",
    "def mad3pg(agent = agent, roll_out = roll_out, max_episodes = 2):\n",
    "    \n",
    "    #let us first preload the agents buffer with memory of randomly taken steps \n",
    "    pretraining(agent, roll_out)\n",
    "    \n",
    "    # start training the agent\n",
    "    ep_scores = [] # list of scores for each episode\n",
    "    scores_window = deque(maxlen = 100)\n",
    "    for i_episode in range(1, max_episodes+1):\n",
    "        #reset the env\n",
    "        env_info = env.reset(train_mode=True)[brain_name] \n",
    "        scores = np.zeros(num_agents)\n",
    "        num_steps = 0 # count the number of steps taken so far\n",
    "        # reset the experience window at the begining of each episode\n",
    "        # This keeps the sequence of events in each episode disentangled\n",
    "        experience_window = deque(maxlen = roll_out)\n",
    "        for _ in range(roll_out):\n",
    "            # obtain the current states\n",
    "            states = env_info.vector_observations \n",
    "            # obtain the current actions\n",
    "            actions = agent.act(states)\n",
    "            # take next step in the environment\n",
    "            env_info = env.step(actions)[brain_name]\n",
    "            # get the rewards\n",
    "            rewards = env_info.rewards\n",
    "            # get done\n",
    "            done = np.any(env_info.local_done)\n",
    "            # obtain the next_state\n",
    "            next_states = env_info.vector_observations\n",
    "            # add reward to score\n",
    "            scores+=rewards\n",
    "            # add step_info\n",
    "            step_info = StepInfo(states, actions, rewards, done, next_states)\n",
    "            # push step_info into experience_window\n",
    "            experience_window.append(step_info)\n",
    "            if done:\n",
    "                final_score = np.max(scores)\n",
    "                ep_scores.append(final_score)\n",
    "                scores_window.append(final_score)\n",
    "                break\n",
    "        \n",
    "        # format the memories in the experience window so as to store them in the replay buffer\n",
    "        memory = format_memory(experience_window, roll_out)\n",
    "        # agent takes a step\n",
    "        agent.step(memory)\n",
    "        while not done:\n",
    "            # obtain the current states\n",
    "            states = env_info.vector_observations \n",
    "            # obtain the current actions\n",
    "            actions = agent.act(states)\n",
    "            # take next step in the environment\n",
    "            env_info = env.step(actions)[brain_name]\n",
    "            # get the rewards\n",
    "            rewards = env_info.rewards\n",
    "            # get done\n",
    "            done = np.any(env_info.local_done)\n",
    "            # obtain the next_states\n",
    "            next_states = env_info.vector_observations\n",
    "            # add reward to score\n",
    "            scores+=rewards\n",
    "            # add step_info\n",
    "            step_info = StepInfo(states, actions, rewards, done, next_states)\n",
    "            # push step_info into experience_window\n",
    "            experience_window.append(step_info)\n",
    "            # format memories\n",
    "            memory = format_memory(experience_window, roll_out)\n",
    "            # agent takes a step\n",
    "            agent.step(memory)\n",
    "        \n",
    "        # compute the episode score\n",
    "        final_score = np.max(scores)\n",
    "        # add it to the ep_scores\n",
    "        ep_scores.append(final_score)\n",
    "        scores_window.append(final_score)\n",
    "        print('\\rEpisode {}\\tAverage Score: {:.2f}'.format(i_episode, np.mean(scores_window)), end=\"\")\n",
    "        if i_episode % 100 == 0:\n",
    "            print('\\rEpisode {}\\tAverage Score: {:.2f}'.format(i_episode, np.mean(scores_window)))\n",
    "            # print('memory size: {}'.format(len(agent.memory)))\n",
    "        if np.mean(scores_window)>=0.5 and i_episode >=100:\n",
    "            print('\\nEnvironment solved in {:d} episodes!\\tAverage Score: {:.2f}'.format(i_episode-100, np.mean(scores_window)))\n",
    "            torch.save({'pl1_local_actor': agent.local_actors[0].state_dict(),\n",
    "                        'pl2_local_actor': agent.local_actors[1].state_dict(),\n",
    "                        'pl1_local_critic': agent.local_critics[0].state_dict(),\n",
    "                        'pl2_local_critic': agent.local_critics[1].state_dict()}, \n",
    "                       'checkpoint.pth')\n",
    "            break\n",
    "    return ep_scores"
   ]
  },
  {
   "cell_type": "code",
   "execution_count": 10,
   "metadata": {},
   "outputs": [],
   "source": [
    "# function to partially fill the agent's replay buffer with random steps before it starts training\n",
    "# we will fill the replay buffer with memory of 1000 random roll_outs\n",
    "def pretraining(agent, roll_out, min_buffer_size = 1000):\n",
    "    pretrain = agent.memory.__len__()<min_buffer_size\n",
    "    i_episode = 0\n",
    "    while pretrain:\n",
    "        #reset the env\n",
    "        i_episode+=1\n",
    "        env_info = env.reset(train_mode=True)[brain_name] \n",
    "        #scores = np.zeros(num_agents)\n",
    "        num_steps = 0 # count the number of steps taken so far\n",
    "        # reset the experience window at the begining of each episode\n",
    "        # This keeps the sequence of events in each episode disentangled\n",
    "        experience_window = deque(maxlen = roll_out)\n",
    "        for _ in range(roll_out):\n",
    "            # obtain the current states\n",
    "            states = env_info.vector_observations \n",
    "            # obtain the current actions\n",
    "            actions = np.random.uniform(-1,1.01, (num_agents, action_size))\n",
    "            actions = np.clip(actions, -1, 1)\n",
    "            # take next step in the environment\n",
    "            env_info = env.step(actions)[brain_name]\n",
    "            # get the rewards\n",
    "            rewards = env_info.rewards\n",
    "            # get done\n",
    "            done = np.any(env_info.local_done)\n",
    "            # obtain the next_state\n",
    "            next_states = env_info.vector_observations\n",
    "            # add reward to score\n",
    "            #scores+=rewards\n",
    "            # add step_info\n",
    "            step_info = StepInfo(states, actions, rewards, done, next_states)\n",
    "            # push step_info into experience_window\n",
    "            experience_window.append(step_info)\n",
    "            if done:\n",
    "                #final_score = np.max(scores)\n",
    "                #ep_scores.append(final_score)\n",
    "                #scores_window.append(final_score)\n",
    "                break\n",
    "        \n",
    "        # format the memories in the experience window so as to store them in the replay buffer\n",
    "        memory = format_memory(experience_window, roll_out)\n",
    "        # push the memory into agents replay buffer\n",
    "        agent.memory.add(memory)\n",
    "        while not done:\n",
    "            # obtain the current states\n",
    "            states = env_info.vector_observations \n",
    "            # obtain the current actions\n",
    "            actions = np.random.uniform(-1,1.01, (num_agents, action_size))\n",
    "            actions = np.clip(actions, -1, 1)\n",
    "            # take next step in the environment\n",
    "            env_info = env.step(actions)[brain_name]\n",
    "            # get the rewards\n",
    "            rewards = env_info.rewards\n",
    "            # get done\n",
    "            done = np.any(env_info.local_done)\n",
    "            # obtain the next_states\n",
    "            next_states = env_info.vector_observations\n",
    "            # add reward to score\n",
    "            #scores+=rewards\n",
    "            # add step_info\n",
    "            step_info = StepInfo(states, actions, rewards, done, next_states)\n",
    "            # push step_info into experience_window\n",
    "            experience_window.append(step_info)\n",
    "            # format memories\n",
    "            memory = format_memory(experience_window, roll_out)\n",
    "            # add memory to agents to buffer\n",
    "            agent.memory.add(memory)\n",
    "        \n",
    "        # compute length of agent's buffer\n",
    "        buffer_length = agent.memory.__len__()\n",
    "        pretrain = buffer_length < min_buffer_size\n",
    "        print('\\rPretraining Episode {}\\t Buffer Length: {}'.format(i_episode, buffer_length), end=\"\")\n",
    "    print('\\n')\n",
    "    return\n",
    "        "
   ]
  },
  {
   "cell_type": "code",
   "execution_count": 11,
   "metadata": {},
   "outputs": [],
   "source": [
    "# function to create a memory tuple \n",
    "def format_memory(experience_window, roll_out):\n",
    "    states = experience_window[0].states\n",
    "    actions = experience_window[0].actions\n",
    "    rewards = np.zeros((num_agents, roll_out))\n",
    "    for itr in range(len(experience_window)):\n",
    "        rewards[:,itr] += experience_window[itr].rewards\n",
    "        # note that if the episodes ends before taking atleast roll_out number of steps \n",
    "        # then the rewards associated to the rest of the steps are automatically zero\n",
    "    \n",
    "    # states after roll_out number of steps have been taken    \n",
    "    fin_states = experience_window[-1].next_states \n",
    "    done = np.ones((num_agents,1)) if experience_window[-1].done else np.zeros((num_agents,1))\n",
    "    pl1_exp = np.concatenate((states[0], actions[0], rewards[0], done[0], fin_states[0]))\n",
    "    pl2_exp = np.concatenate((states[1], actions[1], rewards[1], done[1], fin_states[1]))\n",
    "    return (pl1_exp, pl2_exp)"
   ]
  },
  {
   "cell_type": "code",
   "execution_count": 12,
   "metadata": {},
   "outputs": [
    {
     "name": "stdout",
     "output_type": "stream",
     "text": [
      "Pretraining Episode 63\t Buffer Length: 1027\n",
      "\n",
      "Episode 100\tAverage Score: 0.00\n",
      "Episode 200\tAverage Score: 0.00\n",
      "Episode 300\tAverage Score: 0.02\n",
      "Episode 400\tAverage Score: 0.00\n",
      "Episode 500\tAverage Score: 0.00\n",
      "Episode 600\tAverage Score: 0.00\n",
      "Episode 700\tAverage Score: 0.00\n",
      "Episode 800\tAverage Score: 0.00\n",
      "Episode 900\tAverage Score: 0.00\n",
      "Episode 1000\tAverage Score: 0.00\n",
      "Episode 1100\tAverage Score: 0.03\n",
      "Episode 1200\tAverage Score: 0.02\n",
      "Episode 1300\tAverage Score: 0.04\n",
      "Episode 1400\tAverage Score: 0.05\n",
      "Episode 1500\tAverage Score: 0.05\n",
      "Episode 1600\tAverage Score: 0.05\n",
      "Episode 1700\tAverage Score: 0.06\n",
      "Episode 1800\tAverage Score: 0.05\n",
      "Episode 1900\tAverage Score: 0.05\n",
      "Episode 2000\tAverage Score: 0.05\n",
      "Episode 2100\tAverage Score: 0.06\n",
      "Episode 2200\tAverage Score: 0.08\n",
      "Episode 2300\tAverage Score: 0.10\n",
      "Episode 2400\tAverage Score: 0.12\n",
      "Episode 2500\tAverage Score: 0.10\n",
      "Episode 2600\tAverage Score: 0.12\n",
      "Episode 2700\tAverage Score: 0.12\n",
      "Episode 2800\tAverage Score: 0.10\n",
      "Episode 2900\tAverage Score: 0.15\n",
      "Episode 3000\tAverage Score: 0.26\n",
      "Episode 3100\tAverage Score: 0.29\n",
      "Episode 3200\tAverage Score: 0.28\n",
      "Episode 3288\tAverage Score: 0.51\n",
      "Environment solved in 3188 episodes!\tAverage Score: 0.51\n"
     ]
    },
    {
     "data": {
      "image/png": "[encoded data removed]",
      "text/plain": [
       "<Figure size 432x288 with 1 Axes>"
      ]
     },
     "metadata": {
      "needs_background": "light"
     },
     "output_type": "display_data"
    }
   ],
   "source": [
    "scores = mad3pg(max_episodes = 5000)\n",
    "\n",
    "# plot the scores\n",
    "fig = plt.figure()\n",
    "ax = fig.add_subplot(111)\n",
    "plt.plot(np.arange(len(scores)), scores)\n",
    "plt.ylabel('Score')\n",
    "plt.xlabel('Episode #')\n",
    "plt.show()"
   ]
  }
 ],
 "metadata": {
  "kernelspec": {
   "display_name": "Python [conda env:drlnd]",
   "language": "python",
   "name": "conda-env-drlnd-py"
  },
  "language_info": {
   "codemirror_mode": {
    "name": "ipython",
    "version": 3
   },
   "file_extension": ".py",
   "mimetype": "text/x-python",
   "name": "python",
   "nbconvert_exporter": "python",
   "pygments_lexer": "ipython3",
   "version": "3.6.10"
  }
 },
 "nbformat": 4,
 "nbformat_minor": 2
}
