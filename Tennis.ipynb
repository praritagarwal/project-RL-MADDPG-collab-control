{
 "cells": [
  {
   "cell_type": "markdown",
   "metadata": {},
   "source": [
    "# Collaboration and Competition\n",
    "\n",
    "---\n",
    "\n",
    "In this notebook, you will learn how to use the Unity ML-Agents environment for the third project of the [Deep Reinforcement Learning Nanodegree](https://www.udacity.com/course/deep-reinforcement-learning-nanodegree--nd893) program.\n",
    "\n",
    "### 1. Start the Environment\n",
    "\n",
    "We begin by importing the necessary packages.  If the code cell below returns an error, please revisit the project instructions to double-check that you have installed [Unity ML-Agents](https://github.com/Unity-Technologies/ml-agents/blob/master/docs/Installation.md) and [NumPy](http://www.numpy.org/)."
   ]
  },
  {
   "cell_type": "code",
   "execution_count": 1,
   "metadata": {},
   "outputs": [],
   "source": [
    "from unityagents import UnityEnvironment\n",
    "import numpy as np"
   ]
  },
  {
   "cell_type": "markdown",
   "metadata": {},
   "source": [
    "Next, we will start the environment!  **_Before running the code cell below_**, change the `file_name` parameter to match the location of the Unity environment that you downloaded.\n",
    "\n",
    "- **Mac**: `\"path/to/Tennis.app\"`\n",
    "- **Windows** (x86): `\"path/to/Tennis_Windows_x86/Tennis.exe\"`\n",
    "- **Windows** (x86_64): `\"path/to/Tennis_Windows_x86_64/Tennis.exe\"`\n",
    "- **Linux** (x86): `\"path/to/Tennis_Linux/Tennis.x86\"`\n",
    "- **Linux** (x86_64): `\"path/to/Tennis_Linux/Tennis.x86_64\"`\n",
    "- **Linux** (x86, headless): `\"path/to/Tennis_Linux_NoVis/Tennis.x86\"`\n",
    "- **Linux** (x86_64, headless): `\"path/to/Tennis_Linux_NoVis/Tennis.x86_64\"`\n",
    "\n",
    "For instance, if you are using a Mac, then you downloaded `Tennis.app`.  If this file is in the same folder as the notebook, then the line below should appear as follows:\n",
    "```\n",
    "env = UnityEnvironment(file_name=\"Tennis.app\")\n",
    "```"
   ]
  },
  {
   "cell_type": "code",
   "execution_count": 2,
   "metadata": {},
   "outputs": [
    {
     "name": "stderr",
     "output_type": "stream",
     "text": [
      "INFO:unityagents:\n",
      "'Academy' started successfully!\n",
      "Unity Academy name: Academy\n",
      "        Number of Brains: 1\n",
      "        Number of External Brains : 1\n",
      "        Lesson number : 0\n",
      "        Reset Parameters :\n",
      "\t\t\n",
      "Unity brain name: TennisBrain\n",
      "        Number of Visual Observations (per agent): 0\n",
      "        Vector Observation space type: continuous\n",
      "        Vector Observation space size (per agent): 8\n",
      "        Number of stacked Vector Observation: 3\n",
      "        Vector Action space type: continuous\n",
      "        Vector Action space size (per agent): 2\n",
      "        Vector Action descriptions: , \n"
     ]
    }
   ],
   "source": [
    "env = UnityEnvironment(file_name=\"env/Tennis_Linux_NoVis/Tennis.x86_64\")"
   ]
  },
  {
   "cell_type": "markdown",
   "metadata": {},
   "source": [
    "Environments contain **_brains_** which are responsible for deciding the actions of their associated agents. Here we check for the first brain available, and set it as the default brain we will be controlling from Python."
   ]
  },
  {
   "cell_type": "code",
   "execution_count": 3,
   "metadata": {},
   "outputs": [],
   "source": [
    "# get the default brain\n",
    "brain_name = env.brain_names[0]\n",
    "brain = env.brains[brain_name]"
   ]
  },
  {
   "cell_type": "markdown",
   "metadata": {},
   "source": [
    "### 2. Examine the State and Action Spaces\n",
    "\n",
    "In this environment, two agents control rackets to bounce a ball over a net. If an agent hits the ball over the net, it receives a reward of +0.1.  If an agent lets a ball hit the ground or hits the ball out of bounds, it receives a reward of -0.01.  Thus, the goal of each agent is to keep the ball in play.\n",
    "\n",
    "The observation space consists of 8 variables corresponding to the position and velocity of the ball and racket. Two continuous actions are available, corresponding to movement toward (or away from) the net, and jumping. \n",
    "\n",
    "Run the code cell below to print some information about the environment."
   ]
  },
  {
   "cell_type": "code",
   "execution_count": 4,
   "metadata": {},
   "outputs": [
    {
     "name": "stdout",
     "output_type": "stream",
     "text": [
      "Number of agents: 2\n",
      "Size of each action: 2\n",
      "There are 2 agents. Each observes a state with length: 24\n",
      "The state for the first agent looks like: [ 0.          0.          0.          0.          0.          0.\n",
      "  0.          0.          0.          0.          0.          0.\n",
      "  0.          0.          0.          0.         -6.65278625 -1.5\n",
      " -0.          0.          6.83172083  6.         -0.          0.        ]\n"
     ]
    }
   ],
   "source": [
    "# reset the environment\n",
    "env_info = env.reset(train_mode=True)[brain_name]\n",
    "\n",
    "# number of agents \n",
    "num_agents = len(env_info.agents)\n",
    "print('Number of agents:', num_agents)\n",
    "\n",
    "# size of each action\n",
    "action_size = brain.vector_action_space_size\n",
    "print('Size of each action:', action_size)\n",
    "\n",
    "# examine the state space \n",
    "states = env_info.vector_observations\n",
    "state_size = states.shape[1]\n",
    "print('There are {} agents. Each observes a state with length: {}'.format(states.shape[0], state_size))\n",
    "print('The state for the first agent looks like:', states[0])"
   ]
  },
  {
   "cell_type": "code",
   "execution_count": 5,
   "metadata": {},
   "outputs": [
    {
     "data": {
      "text/plain": [
       "(2, 24)"
      ]
     },
     "execution_count": 5,
     "metadata": {},
     "output_type": "execute_result"
    }
   ],
   "source": [
    "states.shape"
   ]
  },
  {
   "cell_type": "markdown",
   "metadata": {},
   "source": [
    "### 3. Take Random Actions in the Environment\n",
    "\n",
    "In the next code cell, you will learn how to use the Python API to control the agents and receive feedback from the environment.\n",
    "\n",
    "Once this cell is executed, you will watch the agents' performance, if they select actions at random with each time step.  A window should pop up that allows you to observe the agents.\n",
    "\n",
    "Of course, as part of the project, you'll have to change the code so that the agents are able to use their experiences to gradually choose better actions when interacting with the environment!"
   ]
  },
  {
   "cell_type": "code",
   "execution_count": 6,
   "metadata": {},
   "outputs": [
    {
     "name": "stdout",
     "output_type": "stream",
     "text": [
      "Score (max over agents) from episode 1: 0.0\n",
      "Score (max over agents) from episode 2: 0.0\n",
      "Score (max over agents) from episode 3: 0.09000000171363354\n",
      "Score (max over agents) from episode 4: 0.09000000171363354\n",
      "Score (max over agents) from episode 5: 0.0\n"
     ]
    }
   ],
   "source": [
    "for i in range(1, 6):                                      # play game for 5 episodes\n",
    "    env_info = env.reset(train_mode=False)[brain_name]     # reset the environment    \n",
    "    states = env_info.vector_observations                  # get the current state (for each agent)\n",
    "    scores = np.zeros(num_agents)                          # initialize the score (for each agent)\n",
    "    while True:\n",
    "        actions = np.random.randn(num_agents, action_size) # select an action (for each agent)\n",
    "        actions = np.clip(actions, -1, 1)                  # all actions between -1 and 1\n",
    "        env_info = env.step(actions)[brain_name]           # send all actions to tne environment\n",
    "        next_states = env_info.vector_observations         # get next state (for each agent)\n",
    "        rewards = env_info.rewards                         # get reward (for each agent)\n",
    "        dones = env_info.local_done                        # see if episode finished\n",
    "        scores += env_info.rewards                         # update the score (for each agent)\n",
    "        states = next_states                               # roll over states to next time step\n",
    "        if np.any(dones):                                  # exit loop if episode finished\n",
    "            break\n",
    "    print('Score (max over agents) from episode {}: {}'.format(i, np.max(scores)))"
   ]
  },
  {
   "cell_type": "code",
   "execution_count": 7,
   "metadata": {},
   "outputs": [
    {
     "name": "stdout",
     "output_type": "stream",
     "text": [
      "Score (max over agents) from episode 1: 0.10000000149011612\n",
      "num steps in episode 1: 33\n",
      "dones at the end of episode 1: [True, True]\n",
      "Score (max over agents) from episode 2: 0.0\n",
      "num steps in episode 2: 14\n",
      "dones at the end of episode 2: [True, True]\n",
      "Score (max over agents) from episode 3: 0.0\n",
      "num steps in episode 3: 14\n",
      "dones at the end of episode 3: [True, True]\n",
      "Score (max over agents) from episode 4: 0.0\n",
      "num steps in episode 4: 14\n",
      "dones at the end of episode 4: [True, True]\n",
      "Score (max over agents) from episode 5: 0.0\n",
      "num steps in episode 5: 14\n",
      "dones at the end of episode 5: [True, True]\n"
     ]
    }
   ],
   "source": [
    "for i in range(1, 6):                                      # play game for 5 episodes\n",
    "    env_info = env.reset(train_mode=False)[brain_name]     # reset the environment    \n",
    "    states = env_info.vector_observations                  # get the current state (for each agent)\n",
    "    scores = np.zeros(num_agents)                          # initialize the score (for each agent)\n",
    "    num_steps = 0\n",
    "    while True:\n",
    "        actions = np.random.randn(num_agents, action_size) # select an action (for each agent)\n",
    "        actions = np.clip(actions, -1, 1)                  # all actions between -1 and 1\n",
    "        env_info = env.step(actions)[brain_name]           # send all actions to tne environment\n",
    "        next_states = env_info.vector_observations         # get next state (for each agent)\n",
    "        rewards = env_info.rewards                         # get reward (for each agent)\n",
    "        dones = env_info.local_done                        # see if episode finished\n",
    "        scores += env_info.rewards                         # update the score (for each agent)\n",
    "        states = next_states                               # roll over states to next time step\n",
    "        num_steps += 1\n",
    "        if np.any(dones):                                  # exit loop if episode finished\n",
    "            break\n",
    "    print('Score (max over agents) from episode {}: {}'.format(i, np.max(scores)))\n",
    "    print('num steps in episode {}: {}'.format(i, num_steps))\n",
    "    print('dones at the end of episode {}: {}'.format(i, dones))"
   ]
  },
  {
   "cell_type": "markdown",
   "metadata": {},
   "source": [
    "Note that from the output of the above cell we can see that different episodes run for different number of steps. This implies that there are certain terminal states in the env. Also, notice that when a terminal state is reached, both agents are sent a 'done' signal simultaneously. "
   ]
  },
  {
   "cell_type": "markdown",
   "metadata": {},
   "source": [
    "When finished, you can close the environment."
   ]
  },
  {
   "cell_type": "code",
   "execution_count": 8,
   "metadata": {},
   "outputs": [],
   "source": [
    "env.close()"
   ]
  },
  {
   "cell_type": "markdown",
   "metadata": {},
   "source": [
    "### 4. It's Your Turn!\n",
    "\n",
    "Now it's your turn to train your own agent to solve the environment!  When training the environment, set `train_mode=True`, so that the line for resetting the environment looks like the following:\n",
    "```python\n",
    "env_info = env.reset(train_mode=True)[brain_name]\n",
    "```"
   ]
  },
  {
   "cell_type": "code",
   "execution_count": 7,
   "metadata": {},
   "outputs": [],
   "source": [
    "import autoreload\n",
    "import numpy as np\n",
    "import matplotlib.pyplot as plt\n",
    "import torch\n",
    "from collections import namedtuple, deque"
   ]
  },
  {
   "cell_type": "code",
   "execution_count": 8,
   "metadata": {},
   "outputs": [],
   "source": [
    "%load_ext autoreload\n",
    "from MAD3PG_Agent import Agent"
   ]
  },
  {
   "cell_type": "code",
   "execution_count": 9,
   "metadata": {},
   "outputs": [],
   "source": [
    "roll_out = 5\n",
    "assert roll_out >= 1, 'minimum roll_out is 1' # a roll_out of 1 corresponds to a single step \n",
    "agent = Agent(roll_out = roll_out, replay_batch = 32, update_interval = 1,\n",
    "              lr_actor = 3e-4,  lr_critic = 3e-4)"
   ]
  },
  {
   "cell_type": "code",
   "execution_count": 10,
   "metadata": {},
   "outputs": [],
   "source": [
    "# function to solve the environment\n",
    "StepInfo = namedtuple('step_info', field_names = ['states', 'actions', 'rewards',\n",
    "                                                  'done', 'next_states'] )\n",
    "def mad3pg(agent = agent, roll_out = roll_out, max_episodes = 2):\n",
    "    \n",
    "    ep_scores = [] # list of scores for each episode\n",
    "    scores_window = deque(maxlen = 100)\n",
    "    for i_episode in range(1, max_episodes+1):\n",
    "        #reset the env\n",
    "        env_info = env.reset(train_mode=True)[brain_name] \n",
    "        scores = np.zeros(num_agents)\n",
    "        num_steps = 0 # count the number of steps taken so far\n",
    "        # reset the experience window at the begining of each episode\n",
    "        # This keeps the sequence of events in each episode disentangled\n",
    "        experience_window = deque(maxlen = roll_out)\n",
    "        for _ in range(roll_out):\n",
    "            # obtain the current states\n",
    "            states = env_info.vector_observations \n",
    "            # obtain the current actions\n",
    "            actions = agent.act(states)\n",
    "            # take next step in the environment\n",
    "            env_info = env.step(actions)[brain_name]\n",
    "            # get the rewards\n",
    "            rewards = env_info.rewards\n",
    "            # get done\n",
    "            done = np.any(env_info.local_done)\n",
    "            # obtain the next_state\n",
    "            next_states = env_info.vector_observations\n",
    "            # add reward to score\n",
    "            scores+=rewards\n",
    "            # add step_info\n",
    "            step_info = StepInfo(states, actions, rewards, done, next_states)\n",
    "            # push step_info into experience_window\n",
    "            experience_window.append(step_info)\n",
    "            if done:\n",
    "                final_score = np.max(scores)\n",
    "                ep_scores.append(final_score)\n",
    "                scores_window.append(final_score)\n",
    "                break\n",
    "        \n",
    "        # format the memories in the experience window so as to store them in the replay buffer\n",
    "        memory = format_memory(experience_window, roll_out)\n",
    "        # agent takes a step\n",
    "        agent.step(memory)\n",
    "        while not done:\n",
    "            # obtain the current states\n",
    "            states = env_info.vector_observations \n",
    "            # obtain the current actions\n",
    "            actions = agent.act(states)\n",
    "            # take next step in the environment\n",
    "            env_info = env.step(actions)[brain_name]\n",
    "            # get the rewards\n",
    "            rewards = env_info.rewards\n",
    "            # get done\n",
    "            done = np.any(env_info.local_done)\n",
    "            # obtain the next_states\n",
    "            next_states = env_info.vector_observations\n",
    "            # add reward to score\n",
    "            scores+=rewards\n",
    "            # add step_info\n",
    "            step_info = StepInfo(states, actions, rewards, done, next_states)\n",
    "            # push step_info into experience_window\n",
    "            experience_window.append(step_info)\n",
    "            # format memories\n",
    "            memory = format_memory(experience_window, roll_out)\n",
    "            # agent takes a step\n",
    "            agent.step(memory)\n",
    "        \n",
    "        # compute the episode score\n",
    "        final_score = np.max(scores)\n",
    "        # add it to the ep_scores\n",
    "        ep_scores.append(final_score)\n",
    "        scores_window.append(final_score)\n",
    "        print('\\rEpisode {}\\tAverage Score: {:.2f}'.format(i_episode, np.mean(scores_window)), end=\"\")\n",
    "        if i_episode % 100 == 0:\n",
    "            print('\\rEpisode {}\\tAverage Score: {:.2f}'.format(i_episode, np.mean(scores_window)))\n",
    "            # print('memory size: {}'.format(len(agent.memory)))\n",
    "        if np.mean(scores_window)>=0.5 and i_episode >=100:\n",
    "            print('\\nEnvironment solved in {:d} episodes!\\tAverage Score: {:.2f}'.format(i_episode-100, np.mean(scores_window)))\n",
    "            torch.save({'pl1_local_actor': agent.local_actors[0].state_dict(),\n",
    "                        'pl2_local_actor': agent.local_actors[1].state_dict(),\n",
    "                        'pl1_local_critic': agent.local_critics[0].state_dict(),\n",
    "                        'pl2_local_critic': agent.local_critics[1].state_dict()}, \n",
    "                       'checkpoint.pth')\n",
    "            break\n",
    "    return ep_scores"
   ]
  },
  {
   "cell_type": "code",
   "execution_count": 11,
   "metadata": {},
   "outputs": [],
   "source": [
    "# function to create a memory tuple \n",
    "def format_memory(experience_window, roll_out):\n",
    "    states = experience_window[0].states\n",
    "    actions = experience_window[0].actions\n",
    "    rewards = np.zeros((num_agents, roll_out))\n",
    "    for itr in range(len(experience_window)):\n",
    "        rewards[:,itr] += experience_window[itr].rewards\n",
    "        # note that if the episodes ends before taking atleast roll_out number of steps \n",
    "        # then the rewards associated to the rest of the steps are automatically zero\n",
    "    \n",
    "    # states after roll_out number of steps have been taken    \n",
    "    fin_states = experience_window[-1].next_states \n",
    "    done = np.ones((num_agents,1)) if experience_window[-1].done else np.zeros((num_agents,1))\n",
    "    pl1_exp = np.concatenate((states[0], actions[0], rewards[0], done[0], fin_states[0]))\n",
    "    pl2_exp = np.concatenate((states[1], actions[1], rewards[1], done[1], fin_states[1]))\n",
    "    return (pl1_exp, pl2_exp)"
   ]
  },
  {
   "cell_type": "code",
   "execution_count": 12,
   "metadata": {},
   "outputs": [
    {
     "name": "stdout",
     "output_type": "stream",
     "text": [
      "Episode 100\tAverage Score: 0.00\n",
      "Episode 200\tAverage Score: 0.01\n",
      "Episode 300\tAverage Score: 0.00\n",
      "Episode 400\tAverage Score: 0.00\n",
      "Episode 500\tAverage Score: 0.00\n"
     ]
    },
    {
     "data": {
      "image/png": "[encoded data removed]",
      "text/plain": [
       "<Figure size 432x288 with 1 Axes>"
      ]
     },
     "metadata": {
      "needs_background": "light"
     },
     "output_type": "display_data"
    }
   ],
   "source": [
    "scores = mad3pg(max_episodes = 500)\n",
    "\n",
    "# plot the scores\n",
    "fig = plt.figure()\n",
    "ax = fig.add_subplot(111)\n",
    "plt.plot(np.arange(len(scores)), scores)\n",
    "plt.ylabel('Score')\n",
    "plt.xlabel('Episode #')\n",
    "plt.show()"
   ]
  },
  {
   "cell_type": "markdown",
   "metadata": {},
   "source": [
    "### Rough"
   ]
  },
  {
   "cell_type": "code",
   "execution_count": 132,
   "metadata": {},
   "outputs": [],
   "source": [
    "tr = mad3pg()"
   ]
  },
  {
   "cell_type": "code",
   "execution_count": 133,
   "metadata": {},
   "outputs": [
    {
     "data": {
      "text/plain": [
       "(52,)"
      ]
     },
     "execution_count": 133,
     "metadata": {},
     "output_type": "execute_result"
    }
   ],
   "source": [
    "tr[0].shape"
   ]
  },
  {
   "cell_type": "code",
   "execution_count": 117,
   "metadata": {},
   "outputs": [],
   "source": [
    "dd= deque()\n",
    "for itr in range(20):\n",
    "    rand = (np.random.normal(0,1, 5), np.random.normal(0,1, 5))\n",
    "    dd.append(rand)"
   ]
  },
  {
   "cell_type": "code",
   "execution_count": 118,
   "metadata": {},
   "outputs": [],
   "source": [
    "import random"
   ]
  },
  {
   "cell_type": "code",
   "execution_count": 119,
   "metadata": {},
   "outputs": [],
   "source": [
    "sm = random.sample(dd, 7)"
   ]
  },
  {
   "cell_type": "code",
   "execution_count": 120,
   "metadata": {},
   "outputs": [
    {
     "data": {
      "text/plain": [
       "[(array([-0.21054463, -0.07299729,  0.66091023,  0.9586584 , -0.2883831 ]),\n",
       "  array([0.57446439, 0.07677671, 0.13087334, 0.14547145, 1.23747638])),\n",
       " (array([-0.26408308,  0.09437479,  1.67197868,  1.07160676,  1.02301502]),\n",
       "  array([-0.13798207, -1.78204525,  0.36348021, -1.04672954,  1.38346836])),\n",
       " (array([ 1.11405619,  2.38707995,  0.21076901, -2.16302341,  0.13622733]),\n",
       "  array([-1.10169486, -0.91645414,  0.53278   , -1.66173302, -2.76680866])),\n",
       " (array([ 1.35739498, -0.72370699, -0.37860406,  0.07098536, -0.64921667]),\n",
       "  array([-0.45747985, -0.43727049,  0.93230213,  0.6342618 ,  0.08962293])),\n",
       " (array([ 0.80834505,  0.19333751,  0.0597629 ,  1.23009657, -0.55933144]),\n",
       "  array([-1.48182329, -0.02110625, -1.43557612, -1.19445929,  0.23848846])),\n",
       " (array([ 1.02840509,  1.51928304, -2.63517775,  0.76167989, -1.40782343]),\n",
       "  array([-0.16842441, -0.61541638,  1.31462789, -0.23369117, -1.73054906])),\n",
       " (array([-0.10751366,  1.26920713, -0.08566762,  0.19231189,  0.47652702]),\n",
       "  array([ 0.04223235,  1.66960862, -1.26149967, -0.20932292, -1.2636678 ]))]"
      ]
     },
     "execution_count": 120,
     "metadata": {},
     "output_type": "execute_result"
    }
   ],
   "source": [
    "sm"
   ]
  },
  {
   "cell_type": "code",
   "execution_count": 129,
   "metadata": {},
   "outputs": [],
   "source": [
    "pl1 = []\n",
    "pl2 = []\n",
    "for ex in sm:\n",
    "    pl1.append(ex[0])\n",
    "    pl2.append(ex[1])"
   ]
  },
  {
   "cell_type": "code",
   "execution_count": 121,
   "metadata": {},
   "outputs": [
    {
     "data": {
      "text/plain": [
       "7"
      ]
     },
     "execution_count": 121,
     "metadata": {},
     "output_type": "execute_result"
    }
   ],
   "source": [
    "len(sm)"
   ]
  },
  {
   "cell_type": "code",
   "execution_count": 122,
   "metadata": {},
   "outputs": [
    {
     "data": {
      "text/plain": [
       "(5,)"
      ]
     },
     "execution_count": 122,
     "metadata": {},
     "output_type": "execute_result"
    }
   ],
   "source": [
    "sm[0][0].shape"
   ]
  },
  {
   "cell_type": "code",
   "execution_count": 125,
   "metadata": {},
   "outputs": [],
   "source": [
    "sma = np.array(sm)"
   ]
  },
  {
   "cell_type": "code",
   "execution_count": 126,
   "metadata": {},
   "outputs": [
    {
     "data": {
      "text/plain": [
       "(7, 2, 5)"
      ]
     },
     "execution_count": 126,
     "metadata": {},
     "output_type": "execute_result"
    }
   ],
   "source": [
    "sma.shape"
   ]
  },
  {
   "cell_type": "code",
   "execution_count": 128,
   "metadata": {},
   "outputs": [
    {
     "data": {
      "text/plain": [
       "array([[-0.21054463, -0.07299729,  0.66091023,  0.9586584 , -0.2883831 ],\n",
       "       [-0.26408308,  0.09437479,  1.67197868,  1.07160676,  1.02301502],\n",
       "       [ 1.11405619,  2.38707995,  0.21076901, -2.16302341,  0.13622733],\n",
       "       [ 1.35739498, -0.72370699, -0.37860406,  0.07098536, -0.64921667],\n",
       "       [ 0.80834505,  0.19333751,  0.0597629 ,  1.23009657, -0.55933144],\n",
       "       [ 1.02840509,  1.51928304, -2.63517775,  0.76167989, -1.40782343],\n",
       "       [-0.10751366,  1.26920713, -0.08566762,  0.19231189,  0.47652702]])"
      ]
     },
     "execution_count": 128,
     "metadata": {},
     "output_type": "execute_result"
    }
   ],
   "source": [
    "# data for player 1\n",
    "sma[:,0]"
   ]
  },
  {
   "cell_type": "code",
   "execution_count": 130,
   "metadata": {},
   "outputs": [
    {
     "data": {
      "text/plain": [
       "[array([-0.21054463, -0.07299729,  0.66091023,  0.9586584 , -0.2883831 ]),\n",
       " array([-0.26408308,  0.09437479,  1.67197868,  1.07160676,  1.02301502]),\n",
       " array([ 1.11405619,  2.38707995,  0.21076901, -2.16302341,  0.13622733]),\n",
       " array([ 1.35739498, -0.72370699, -0.37860406,  0.07098536, -0.64921667]),\n",
       " array([ 0.80834505,  0.19333751,  0.0597629 ,  1.23009657, -0.55933144]),\n",
       " array([ 1.02840509,  1.51928304, -2.63517775,  0.76167989, -1.40782343]),\n",
       " array([-0.10751366,  1.26920713, -0.08566762,  0.19231189,  0.47652702])]"
      ]
     },
     "execution_count": 130,
     "metadata": {},
     "output_type": "execute_result"
    }
   ],
   "source": [
    "pl1"
   ]
  },
  {
   "cell_type": "code",
   "execution_count": 138,
   "metadata": {},
   "outputs": [
    {
     "data": {
      "text/plain": [
       "(7, 2, 2)"
      ]
     },
     "execution_count": 138,
     "metadata": {},
     "output_type": "execute_result"
    }
   ],
   "source": [
    "# all the intial states for both the players\n",
    "# let's assume the the initial states correspond to first 2 entries at each step\n",
    "instts = sma[:,:,:2] \n",
    "instts.shape"
   ]
  },
  {
   "cell_type": "code",
   "execution_count": 146,
   "metadata": {},
   "outputs": [
    {
     "data": {
      "text/plain": [
       "array([[-0.21054463, -0.07299729],\n",
       "       [-0.26408308,  0.09437479],\n",
       "       [ 1.11405619,  2.38707995],\n",
       "       [ 1.35739498, -0.72370699],\n",
       "       [ 0.80834505,  0.19333751],\n",
       "       [ 1.02840509,  1.51928304],\n",
       "       [-0.10751366,  1.26920713]])"
      ]
     },
     "execution_count": 146,
     "metadata": {},
     "output_type": "execute_result"
    }
   ],
   "source": [
    "instts[:,0,:]"
   ]
  },
  {
   "cell_type": "code",
   "execution_count": 144,
   "metadata": {},
   "outputs": [
    {
     "data": {
      "text/plain": [
       "array([[ 0.9586584 , -0.2883831 ],\n",
       "       [ 1.07160676,  1.02301502],\n",
       "       [-2.16302341,  0.13622733],\n",
       "       [ 0.07098536, -0.64921667],\n",
       "       [ 1.23009657, -0.55933144],\n",
       "       [ 0.76167989, -1.40782343],\n",
       "       [ 0.19231189,  0.47652702]])"
      ]
     },
     "execution_count": 144,
     "metadata": {},
     "output_type": "execute_result"
    }
   ],
   "source": [
    "sma[:,0,3:]"
   ]
  },
  {
   "cell_type": "code",
   "execution_count": 147,
   "metadata": {},
   "outputs": [
    {
     "data": {
      "text/plain": [
       "array([[[-0.21054463, -0.07299729],\n",
       "        [ 0.57446439,  0.07677671]],\n",
       "\n",
       "       [[-0.26408308,  0.09437479],\n",
       "        [-0.13798207, -1.78204525]],\n",
       "\n",
       "       [[ 1.11405619,  2.38707995],\n",
       "        [-1.10169486, -0.91645414]],\n",
       "\n",
       "       [[ 1.35739498, -0.72370699],\n",
       "        [-0.45747985, -0.43727049]],\n",
       "\n",
       "       [[ 0.80834505,  0.19333751],\n",
       "        [-1.48182329, -0.02110625]],\n",
       "\n",
       "       [[ 1.02840509,  1.51928304],\n",
       "        [-0.16842441, -0.61541638]],\n",
       "\n",
       "       [[-0.10751366,  1.26920713],\n",
       "        [ 0.04223235,  1.66960862]]])"
      ]
     },
     "execution_count": 147,
     "metadata": {},
     "output_type": "execute_result"
    }
   ],
   "source": [
    "instts"
   ]
  },
  {
   "cell_type": "code",
   "execution_count": 148,
   "metadata": {},
   "outputs": [
    {
     "data": {
      "text/plain": [
       "array([[-0.21054463, -0.07299729,  0.57446439,  0.07677671],\n",
       "       [-0.26408308,  0.09437479, -0.13798207, -1.78204525],\n",
       "       [ 1.11405619,  2.38707995, -1.10169486, -0.91645414],\n",
       "       [ 1.35739498, -0.72370699, -0.45747985, -0.43727049],\n",
       "       [ 0.80834505,  0.19333751, -1.48182329, -0.02110625],\n",
       "       [ 1.02840509,  1.51928304, -0.16842441, -0.61541638],\n",
       "       [-0.10751366,  1.26920713,  0.04223235,  1.66960862]])"
      ]
     },
     "execution_count": 148,
     "metadata": {},
     "output_type": "execute_result"
    }
   ],
   "source": [
    "instts.reshape(7,-1)"
   ]
  },
  {
   "cell_type": "code",
   "execution_count": 150,
   "metadata": {},
   "outputs": [],
   "source": [
    "tt1  = torch.tensor([[1,2,3],[2,3,1]])"
   ]
  },
  {
   "cell_type": "code",
   "execution_count": 152,
   "metadata": {},
   "outputs": [
    {
     "data": {
      "text/plain": [
       "tensor([[1, 2, 3, 1, 2, 3],\n",
       "        [2, 3, 1, 2, 3, 1]])"
      ]
     },
     "execution_count": 152,
     "metadata": {},
     "output_type": "execute_result"
    }
   ],
   "source": [
    "torch.cat([tt1, tt1], dim = 1)"
   ]
  },
  {
   "cell_type": "code",
   "execution_count": 215,
   "metadata": {},
   "outputs": [
    {
     "data": {
      "text/plain": [
       "torch.Size([7, 2, 3])"
      ]
     },
     "execution_count": 215,
     "metadata": {},
     "output_type": "execute_result"
    }
   ],
   "source": [
    "rw = torch.tensor(sma[:,:, 1:4])\n",
    "rw.size()"
   ]
  },
  {
   "cell_type": "code",
   "execution_count": 216,
   "metadata": {},
   "outputs": [
    {
     "data": {
      "text/plain": [
       "torch.Size([3, 1])"
      ]
     },
     "execution_count": 216,
     "metadata": {},
     "output_type": "execute_result"
    }
   ],
   "source": [
    "disc = torch.tensor(np.array([1,2,3])).double().view(-1,1)\n",
    "disc.shape"
   ]
  },
  {
   "cell_type": "code",
   "execution_count": 217,
   "metadata": {},
   "outputs": [
    {
     "data": {
      "text/plain": [
       "torch.Size([7, 2, 1])"
      ]
     },
     "execution_count": 217,
     "metadata": {},
     "output_type": "execute_result"
    }
   ],
   "source": [
    "res = torch.matmul(rw, disc)\n",
    "res.shape"
   ]
  },
  {
   "cell_type": "code",
   "execution_count": 218,
   "metadata": {},
   "outputs": [
    {
     "data": {
      "text/plain": [
       "tensor([[ 4.1248],\n",
       "        [ 6.6532],\n",
       "        [-3.6805],\n",
       "        [-1.2680],\n",
       "        [ 4.0032],\n",
       "        [-1.4660],\n",
       "        [ 1.6748]], dtype=torch.float64)"
      ]
     },
     "execution_count": 218,
     "metadata": {},
     "output_type": "execute_result"
    }
   ],
   "source": [
    "res[:,0]"
   ]
  },
  {
   "cell_type": "code",
   "execution_count": 219,
   "metadata": {},
   "outputs": [
    {
     "data": {
      "text/plain": [
       "tensor([[-0.0730,  0.6609,  0.9587],\n",
       "        [ 0.0944,  1.6720,  1.0716],\n",
       "        [ 2.3871,  0.2108, -2.1630],\n",
       "        [-0.7237, -0.3786,  0.0710],\n",
       "        [ 0.1933,  0.0598,  1.2301],\n",
       "        [ 1.5193, -2.6352,  0.7617],\n",
       "        [ 1.2692, -0.0857,  0.1923]], dtype=torch.float64)"
      ]
     },
     "execution_count": 219,
     "metadata": {},
     "output_type": "execute_result"
    }
   ],
   "source": [
    "rw[:,0]"
   ]
  },
  {
   "cell_type": "code",
   "execution_count": 202,
   "metadata": {},
   "outputs": [
    {
     "data": {
      "text/plain": [
       "tensor([[ 4.1248],\n",
       "        [ 6.6532],\n",
       "        [-3.6805],\n",
       "        [-1.2680],\n",
       "        [ 4.0032],\n",
       "        [-1.4660],\n",
       "        [ 1.6748]], dtype=torch.float64)"
      ]
     },
     "execution_count": 202,
     "metadata": {},
     "output_type": "execute_result"
    }
   ],
   "source": [
    "tr = torch.matmul(rw[:,0], disc)\n",
    "tr"
   ]
  },
  {
   "cell_type": "code",
   "execution_count": 197,
   "metadata": {},
   "outputs": [
    {
     "data": {
      "text/plain": [
       "tensor([[ 0.7749],\n",
       "        [-4.1953],\n",
       "        [-4.8361],\n",
       "        [ 3.3301],\n",
       "        [-6.4756],\n",
       "        [ 1.3128],\n",
       "        [-1.4814]], dtype=torch.float64)"
      ]
     },
     "execution_count": 197,
     "metadata": {},
     "output_type": "execute_result"
    }
   ],
   "source": [
    "res[:,1]"
   ]
  },
  {
   "cell_type": "code",
   "execution_count": 199,
   "metadata": {},
   "outputs": [],
   "source": [
    "st = torch.stack([torch.matmul(rw[:,0], disc), res[:,1]])"
   ]
  },
  {
   "cell_type": "code",
   "execution_count": 200,
   "metadata": {},
   "outputs": [
    {
     "data": {
      "text/plain": [
       "torch.Size([2, 7, 1])"
      ]
     },
     "execution_count": 200,
     "metadata": {},
     "output_type": "execute_result"
    }
   ],
   "source": [
    "st.shape"
   ]
  },
  {
   "cell_type": "code",
   "execution_count": 220,
   "metadata": {},
   "outputs": [
    {
     "data": {
      "text/plain": [
       "tensor([[-0.0730,  0.6609,  0.9587],\n",
       "        [ 0.0944,  1.6720,  1.0716],\n",
       "        [ 2.3871,  0.2108, -2.1630],\n",
       "        [-0.7237, -0.3786,  0.0710],\n",
       "        [ 0.1933,  0.0598,  1.2301],\n",
       "        [ 1.5193, -2.6352,  0.7617],\n",
       "        [ 1.2692, -0.0857,  0.1923]], dtype=torch.float64)"
      ]
     },
     "execution_count": 220,
     "metadata": {},
     "output_type": "execute_result"
    }
   ],
   "source": [
    "rr= rw[:,0]\n",
    "rr"
   ]
  },
  {
   "cell_type": "code",
   "execution_count": 221,
   "metadata": {},
   "outputs": [
    {
     "data": {
      "text/plain": [
       "torch.Size([7, 1])"
      ]
     },
     "execution_count": 221,
     "metadata": {},
     "output_type": "execute_result"
    }
   ],
   "source": [
    "dn = torch.tensor([1.,0.,0.,1.,1.,0.,1.]).view(-1,1)\n",
    "dn.shape"
   ]
  },
  {
   "cell_type": "code",
   "execution_count": 224,
   "metadata": {},
   "outputs": [
    {
     "data": {
      "text/plain": [
       "tensor([[-0.0000,  0.0000,  0.0000],\n",
       "        [ 0.0944,  1.6720,  1.0716],\n",
       "        [ 2.3871,  0.2108, -2.1630],\n",
       "        [-0.0000, -0.0000,  0.0000],\n",
       "        [ 0.0000,  0.0000,  0.0000],\n",
       "        [ 1.5193, -2.6352,  0.7617],\n",
       "        [ 0.0000, -0.0000,  0.0000]], dtype=torch.float64)"
      ]
     },
     "execution_count": 224,
     "metadata": {},
     "output_type": "execute_result"
    }
   ],
   "source": [
    "# let's say the atom for value is the column with indx 1 in rr\n",
    "rr = rr*(1-dn)\n",
    "rr"
   ]
  },
  {
   "cell_type": "code",
   "execution_count": 225,
   "metadata": {},
   "outputs": [
    {
     "data": {
      "text/plain": [
       "tensor([[-0.0000,  1.0000,  0.0000],\n",
       "        [ 0.0944,  1.6720,  1.0716],\n",
       "        [ 2.3871,  0.2108, -2.1630],\n",
       "        [-0.0000,  1.0000,  0.0000],\n",
       "        [ 0.0000,  1.0000,  0.0000],\n",
       "        [ 1.5193, -2.6352,  0.7617],\n",
       "        [ 0.0000,  1.0000,  0.0000]], dtype=torch.float64)"
      ]
     },
     "execution_count": 225,
     "metadata": {},
     "output_type": "execute_result"
    }
   ],
   "source": [
    "rr[:,1]+=dn.view(-1)\n",
    "rr"
   ]
  },
  {
   "cell_type": "code",
   "execution_count": 228,
   "metadata": {},
   "outputs": [
    {
     "data": {
      "text/plain": [
       "array([-10. ,  -9.6,  -9.2,  -8.8,  -8.4,  -8. ,  -7.6,  -7.2,  -6.8,\n",
       "        -6.4,  -6. ,  -5.6,  -5.2,  -4.8,  -4.4,  -4. ,  -3.6,  -3.2,\n",
       "        -2.8,  -2.4,  -2. ,  -1.6,  -1.2,  -0.8,  -0.4,   0. ,   0.4,\n",
       "         0.8,   1.2,   1.6,   2. ,   2.4,   2.8,   3.2,   3.6,   4. ,\n",
       "         4.4,   4.8,   5.2,   5.6,   6. ,   6.4,   6.8,   7.2,   7.6,\n",
       "         8. ,   8.4,   8.8,   9.2,   9.6,  10. ])"
      ]
     },
     "execution_count": 228,
     "metadata": {},
     "output_type": "execute_result"
    }
   ],
   "source": [
    "arr = np.linspace(-10,10,51)\n",
    "arr"
   ]
  },
  {
   "cell_type": "code",
   "execution_count": 231,
   "metadata": {},
   "outputs": [
    {
     "data": {
      "text/plain": [
       "(tensor([25]),)"
      ]
     },
     "execution_count": 231,
     "metadata": {},
     "output_type": "execute_result"
    }
   ],
   "source": [
    "torch.where(torch.from_numpy(arr) == 0)"
   ]
  },
  {
   "cell_type": "code",
   "execution_count": 234,
   "metadata": {},
   "outputs": [
    {
     "data": {
      "text/plain": [
       "25"
      ]
     },
     "execution_count": 234,
     "metadata": {},
     "output_type": "execute_result"
    }
   ],
   "source": [
    "np.floor(10/(20/50)).astype(int)"
   ]
  },
  {
   "cell_type": "code",
   "execution_count": 12,
   "metadata": {},
   "outputs": [
    {
     "data": {
      "text/plain": [
       "device(type='cpu')"
      ]
     },
     "execution_count": 12,
     "metadata": {},
     "output_type": "execute_result"
    }
   ],
   "source": [
    "tt = torch.tensor(5)\n",
    "tt.device"
   ]
  },
  {
   "cell_type": "code",
   "execution_count": 19,
   "metadata": {},
   "outputs": [
    {
     "data": {
      "text/plain": [
       "tensor([[[0.1824, 0.5350, 0.9080],\n",
       "         [0.1465, 0.4669, 0.8295]],\n",
       "\n",
       "        [[0.8745, 0.5339, 0.5611],\n",
       "         [0.6147, 0.9605, 0.1339]],\n",
       "\n",
       "        [[0.6396, 0.9159, 0.3442],\n",
       "         [0.8886, 0.4565, 0.9969]],\n",
       "\n",
       "        [[0.0880, 0.2258, 0.4123],\n",
       "         [0.1589, 0.4110, 0.9672]],\n",
       "\n",
       "        [[0.3248, 0.4578, 0.7604],\n",
       "         [0.4433, 0.8495, 0.8480]],\n",
       "\n",
       "        [[0.8320, 0.6328, 0.4067],\n",
       "         [0.4241, 0.3631, 0.1976]],\n",
       "\n",
       "        [[0.0018, 0.7534, 0.6050],\n",
       "         [0.8458, 0.6148, 0.6638]]], device='cuda:0', dtype=torch.float64)"
      ]
     },
     "execution_count": 19,
     "metadata": {},
     "output_type": "execute_result"
    }
   ],
   "source": [
    "tt = torch.tensor(np.random.random((7,2,3))).to('cuda')\n",
    "tt"
   ]
  },
  {
   "cell_type": "code",
   "execution_count": 20,
   "metadata": {},
   "outputs": [
    {
     "data": {
      "text/plain": [
       "tensor([[0.1824, 0.5350, 0.9080, 0.1465, 0.4669, 0.8295],\n",
       "        [0.8745, 0.5339, 0.5611, 0.6147, 0.9605, 0.1339],\n",
       "        [0.6396, 0.9159, 0.3442, 0.8886, 0.4565, 0.9969],\n",
       "        [0.0880, 0.2258, 0.4123, 0.1589, 0.4110, 0.9672],\n",
       "        [0.3248, 0.4578, 0.7604, 0.4433, 0.8495, 0.8480],\n",
       "        [0.8320, 0.6328, 0.4067, 0.4241, 0.3631, 0.1976],\n",
       "        [0.0018, 0.7534, 0.6050, 0.8458, 0.6148, 0.6638]], device='cuda:0',\n",
       "       dtype=torch.float64)"
      ]
     },
     "execution_count": 20,
     "metadata": {},
     "output_type": "execute_result"
    }
   ],
   "source": [
    "tt.view(7,-1)"
   ]
  },
  {
   "cell_type": "code",
   "execution_count": null,
   "metadata": {},
   "outputs": [],
   "source": []
  }
 ],
 "metadata": {
  "kernelspec": {
   "display_name": "Python [conda env:drlnd]",
   "language": "python",
   "name": "conda-env-drlnd-py"
  },
  "language_info": {
   "codemirror_mode": {
    "name": "ipython",
    "version": 3
   },
   "file_extension": ".py",
   "mimetype": "text/x-python",
   "name": "python",
   "nbconvert_exporter": "python",
   "pygments_lexer": "ipython3",
   "version": "3.6.10"
  }
 },
 "nbformat": 4,
 "nbformat_minor": 2
}
